{
 "cells": [
  {
   "cell_type": "code",
   "execution_count": 1,
   "metadata": {},
   "outputs": [],
   "source": [
    "import numpy as np\n",
    "import pandas as pd\n",
    "import matplotlib.pyplot as plt\n",
    "from numpy.linalg import inv\n",
    "from sklearn.utils import shuffle\n",
    "\n",
    "\n",
    "%matplotlib inline\n",
    "\n",
    "\n",
    "\n",
    "%load_ext autoreload\n",
    "%autoreload 2\n"
   ]
  },
  {
   "cell_type": "code",
   "execution_count": 2,
   "metadata": {},
   "outputs": [
    {
     "name": "stdout",
     "output_type": "stream",
     "text": [
      "(42000, 785)\n"
     ]
    }
   ],
   "source": [
    "mnist = pd.read_csv('/home/oyku/Desktop/Oyku/Convex 10-725/train_mnist.csv')\n",
    "\n",
    "mnist = pd.DataFrame.as_matrix(mnist)\n",
    "\n",
    "mnist_shuffled = shuffle(mnist)\n",
    "\n",
    "print mnist.shape"
   ]
  },
  {
   "cell_type": "code",
   "execution_count": 3,
   "metadata": {},
   "outputs": [
    {
     "data": {
      "image/png": "[encoded data removed]",
      "text/plain": [
       "<matplotlib.figure.Figure at 0x7fc9b1e9d910>"
      ]
     },
     "metadata": {},
     "output_type": "display_data"
    }
   ],
   "source": [
    "s = plt.imshow(mnist[0,1::].reshape([28,28]))\n"
   ]
  },
  {
   "cell_type": "code",
   "execution_count": 4,
   "metadata": {},
   "outputs": [
    {
     "name": "stdout",
     "output_type": "stream",
     "text": [
      "(42000, 784)\n",
      "4132\n",
      "4684\n",
      "(8816, 784)\n",
      "(8816,)\n"
     ]
    }
   ],
   "source": [
    "label = mnist[:,0]\n",
    "data = mnist[:,1::]\n",
    "print data.shape\n",
    "print np.sum((label == 0) + 0)\n",
    "print np.sum((label == 1) + 0)\n",
    "\n",
    "new_data = data[(label < 2), :]\n",
    "new_label = label[(label < 2)]\n",
    "print new_data.shape\n",
    "print new_label.shape"
   ]
  },
  {
   "cell_type": "code",
   "execution_count": 5,
   "metadata": {},
   "outputs": [
    {
     "name": "stdout",
     "output_type": "stream",
     "text": [
      "(8816, 784)\n",
      "(8816, 1)\n"
     ]
    }
   ],
   "source": [
    "X = new_data\n",
    "y = new_label.reshape([new_label.shape[0], 1])\n",
    "y[y == 0] = -1\n",
    "print X.shape\n",
    "print y.shape"
   ]
  },
  {
   "cell_type": "code",
   "execution_count": 6,
   "metadata": {},
   "outputs": [
    {
     "name": "stdout",
     "output_type": "stream",
     "text": [
      "(8816, 785)\n"
     ]
    }
   ],
   "source": [
    "#Centralize the data\n",
    "for i in xrange(X.shape[1]):\n",
    "    X[:,i] = X[:,i] - np.mean(X[:,i])\n",
    "X = np.append(X, np.ones([X.shape[0],1]), axis = 1)\n",
    "print X.shape"
   ]
  },
  {
   "cell_type": "code",
   "execution_count": 7,
   "metadata": {},
   "outputs": [
    {
     "data": {
      "image/png": "[encoded data removed]",
      "text/plain": [
       "<matplotlib.figure.Figure at 0x7fc9b1ed3550>"
      ]
     },
     "metadata": {},
     "output_type": "display_data"
    }
   ],
   "source": [
    "s = plt.imshow(X[0,0:-1].reshape([28,28]))\n"
   ]
  },
  {
   "cell_type": "code",
   "execution_count": 8,
   "metadata": {},
   "outputs": [
    {
     "name": "stdout",
     "output_type": "stream",
     "text": [
      "(6100, 785)\n",
      "(1358, 785)\n",
      "(1358, 785)\n"
     ]
    }
   ],
   "source": [
    "#Train and Validation sets\n",
    "train = X[0:6100,:]\n",
    "train_y = y[0:6100,:]\n",
    "\n",
    "valid = X[6100:7458,:]\n",
    "valid_y = y[6100:7458,:]\n",
    "\n",
    "test = X[7458:8816,:]\n",
    "test_y = y[7458:8816,:]\n",
    "\n",
    "print train.shape\n",
    "print valid.shape\n",
    "print test.shape\n"
   ]
  },
  {
   "cell_type": "code",
   "execution_count": 9,
   "metadata": {},
   "outputs": [],
   "source": [
    "#model parameters\n",
    "n = train.shape[0] #number of examples in train\n",
    "d = train.shape[1] #number of features in train\n",
    "\n",
    "#C = 10\n",
    "# epsilon = 0.5\n",
    "# t = 5\n",
    "alpha = 0.5\n",
    "\n",
    "beta = 0.9 #backtracking step decrease rate\n",
    "#t_mu = 1.2 #scaling factor of t for the barrier method"
   ]
  },
  {
   "cell_type": "code",
   "execution_count": 10,
   "metadata": {},
   "outputs": [],
   "source": [
    "initial_w = np.random.rand(1,d)*1e-3\n"
   ]
  },
  {
   "cell_type": "markdown",
   "metadata": {},
   "source": [
    "# Gardient Descent"
   ]
  },
  {
   "cell_type": "code",
   "execution_count": 11,
   "metadata": {
    "scrolled": true
   },
   "outputs": [
    {
     "name": "stdout",
     "output_type": "stream",
     "text": [
      "---------- epoch:  e,  iteration:  0  ----------\n",
      "Loss:  [ 18.74863726]\n",
      "Step:  1.90683748117e-06\n",
      "---------- epoch:  e,  iteration:  1  ----------\n",
      "Loss:  [ 16.30891199]\n",
      "Step:  1.90683748117e-06\n",
      "---------- epoch:  e,  iteration:  2  ----------\n",
      "Loss:  [ 14.29934001]\n",
      "Step:  1.90683748117e-06\n",
      "---------- epoch:  e,  iteration:  3  ----------\n",
      "Loss:  [ 12.59157595]\n",
      "Step:  1.90683748117e-06\n",
      "---------- epoch:  e,  iteration:  4  ----------\n",
      "Loss:  [ 11.11775674]\n",
      "Step:  1.90683748117e-06\n",
      "---------- epoch:  e,  iteration:  5  ----------\n",
      "Loss:  [ 9.8342663]\n",
      "Step:  1.90683748117e-06\n",
      "---------- epoch:  e,  iteration:  6  ----------\n",
      "Loss:  [ 8.70997403]\n",
      "Step:  1.90683748117e-06\n",
      "---------- epoch:  e,  iteration:  7  ----------\n",
      "Loss:  [ 7.72125673]\n",
      "Step:  1.90683748117e-06\n",
      "---------- epoch:  e,  iteration:  8  ----------\n",
      "Loss:  [ 6.84942378]\n",
      "Step:  1.90683748117e-06\n",
      "---------- epoch:  e,  iteration:  9  ----------\n",
      "Loss:  [ 6.07922377]\n",
      "Step:  1.90683748117e-06\n",
      "\n",
      "Validation accuracy:  [ 3.31369661]\n",
      "---------- epoch:  e,  iteration:  10  ----------\n",
      "Loss:  [ 5.3979209]\n",
      "Step:  1.90683748117e-06\n",
      "---------- epoch:  e,  iteration:  11  ----------\n",
      "Loss:  [ 4.79469709]\n",
      "Step:  1.90683748117e-06\n",
      "---------- epoch:  e,  iteration:  12  ----------\n",
      "Loss:  [ 4.26024888]\n",
      "Step:  1.90683748117e-06\n",
      "---------- epoch:  e,  iteration:  13  ----------\n",
      "Loss:  [ 3.78650425]\n",
      "Step:  1.90683748117e-06\n",
      "---------- epoch:  e,  iteration:  14  ----------\n",
      "Loss:  [ 3.36641553]\n",
      "Step:  1.90683748117e-06\n",
      "---------- epoch:  e,  iteration:  15  ----------\n",
      "Loss:  [ 2.99380205]\n",
      "Step:  1.90683748117e-06\n",
      "---------- epoch:  e,  iteration:  16  ----------\n",
      "Loss:  [ 2.66322641]\n",
      "Step:  1.90683748117e-06\n",
      "---------- epoch:  e,  iteration:  17  ----------\n",
      "Loss:  [ 2.36989442]\n",
      "Step:  1.90683748117e-06\n",
      "---------- epoch:  e,  iteration:  18  ----------\n",
      "Loss:  [ 2.10957216]\n",
      "Step:  1.90683748117e-06\n",
      "---------- epoch:  e,  iteration:  19  ----------\n",
      "Loss:  [ 1.8785162]\n",
      "Step:  1.90683748117e-06\n",
      "\n",
      "Validation accuracy:  [ 6.40648012]\n",
      "---------- epoch:  e,  iteration:  20  ----------\n",
      "Loss:  [ 1.6734139]\n",
      "Step:  1.90683748117e-06\n",
      "---------- epoch:  e,  iteration:  21  ----------\n",
      "Loss:  [ 1.49133199]\n",
      "Step:  1.90683748117e-06\n",
      "---------- epoch:  e,  iteration:  22  ----------\n",
      "Loss:  [ 1.32967187]\n",
      "Step:  1.90683748117e-06\n",
      "---------- epoch:  e,  iteration:  23  ----------\n",
      "Loss:  [ 1.18613054]\n",
      "Step:  1.90683748117e-06\n",
      "---------- epoch:  e,  iteration:  24  ----------\n",
      "Loss:  [ 1.05866645]\n",
      "Step:  1.90683748117e-06\n",
      "---------- epoch:  e,  iteration:  25  ----------\n",
      "Loss:  [ 0.94546931]\n",
      "Step:  1.90683748117e-06\n",
      "---------- epoch:  e,  iteration:  26  ----------\n",
      "Loss:  [ 0.84493369]\n",
      "Step:  1.90683748117e-06\n",
      "---------- epoch:  e,  iteration:  27  ----------\n",
      "Loss:  [ 0.75563556]\n",
      "Step:  1.90683748117e-06\n",
      "---------- epoch:  e,  iteration:  28  ----------\n",
      "Loss:  [ 0.67631167]\n",
      "Step:  1.90683748117e-06\n",
      "---------- epoch:  e,  iteration:  29  ----------\n",
      "Loss:  [ 0.60584127]\n",
      "Step:  1.90683748117e-06\n",
      "\n",
      "Validation accuracy:  [ 44.1826215]\n",
      "---------- epoch:  e,  iteration:  30  ----------\n",
      "Loss:  [ 0.54322995]\n",
      "Step:  1.90683748117e-06\n",
      "---------- epoch:  e,  iteration:  31  ----------\n",
      "Loss:  [ 0.48759534]\n",
      "Step:  1.90683748117e-06\n",
      "---------- epoch:  e,  iteration:  32  ----------\n",
      "Loss:  [ 0.43815441]\n",
      "Step:  1.90683748117e-06\n",
      "---------- epoch:  e,  iteration:  33  ----------\n",
      "Loss:  [ 0.39421229]\n",
      "Step:  1.90683748117e-06\n",
      "---------- epoch:  e,  iteration:  34  ----------\n",
      "Loss:  [ 0.35515227]\n",
      "Step:  1.90683748117e-06\n",
      "---------- epoch:  e,  iteration:  35  ----------\n",
      "Loss:  [ 0.32042701]\n",
      "Step:  1.90683748117e-06\n",
      "---------- epoch:  e,  iteration:  36  ----------\n",
      "Loss:  [ 0.2895507]\n",
      "Step:  1.90683748117e-06\n",
      "---------- epoch:  e,  iteration:  37  ----------\n",
      "Loss:  [ 0.26209217]\n",
      "Step:  1.90683748117e-06\n",
      "---------- epoch:  e,  iteration:  38  ----------\n",
      "Loss:  [ 0.23766866]\n",
      "Step:  1.90683748117e-06\n",
      "---------- epoch:  e,  iteration:  39  ----------\n",
      "Loss:  [ 0.21594043]\n",
      "Step:  1.90683748117e-06\n",
      "\n",
      "Validation accuracy:  [ 92.19440353]\n",
      "---------- epoch:  e,  iteration:  40  ----------\n",
      "Loss:  [ 0.19660591]\n",
      "Step:  1.90683748117e-06\n",
      "---------- epoch:  e,  iteration:  41  ----------\n",
      "Loss:  [ 0.17939738]\n",
      "Step:  1.90683748117e-06\n",
      "---------- epoch:  e,  iteration:  42  ----------\n",
      "Loss:  [ 0.16407716]\n",
      "Step:  1.90683748117e-06\n",
      "---------- epoch:  e,  iteration:  43  ----------\n",
      "Loss:  [ 0.15043429]\n",
      "Step:  1.90683748117e-06\n",
      "---------- epoch:  e,  iteration:  44  ----------\n",
      "Loss:  [ 0.13828144]\n",
      "Step:  1.90683748117e-06\n",
      "---------- epoch:  e,  iteration:  45  ----------\n",
      "Loss:  [ 0.12745232]\n",
      "Step:  1.90683748117e-06\n",
      "---------- epoch:  e,  iteration:  46  ----------\n",
      "Loss:  [ 0.11779929]\n",
      "Step:  1.90683748117e-06\n",
      "---------- epoch:  e,  iteration:  47  ----------\n",
      "Loss:  [ 0.10919126]\n",
      "Step:  1.90683748117e-06\n",
      "---------- epoch:  e,  iteration:  48  ----------\n",
      "Loss:  [ 0.10151183]\n",
      "Step:  1.90683748117e-06\n",
      "---------- epoch:  e,  iteration:  49  ----------\n",
      "Loss:  [ 0.09465765]\n",
      "Step:  1.90683748117e-06\n",
      "\n",
      "Validation accuracy:  [ 97.1281296]\n",
      "---------- epoch:  e,  iteration:  50  ----------\n",
      "Loss:  [ 0.08853697]\n",
      "Step:  1.90683748117e-06\n",
      "---------- epoch:  e,  iteration:  51  ----------\n",
      "Loss:  [ 0.08306829]\n",
      "Step:  1.90683748117e-06\n",
      "---------- epoch:  e,  iteration:  52  ----------\n",
      "Loss:  [ 0.07817925]\n",
      "Step:  1.90683748117e-06\n",
      "---------- epoch:  e,  iteration:  53  ----------\n",
      "Loss:  [ 0.0738056]\n",
      "Step:  1.90683748117e-06\n",
      "---------- epoch:  e,  iteration:  54  ----------\n",
      "Loss:  [ 0.06989025]\n",
      "Step:  1.90683748117e-06\n",
      "---------- epoch:  e,  iteration:  55  ----------\n",
      "Loss:  [ 0.06638252]\n",
      "Step:  1.90683748117e-06\n",
      "---------- epoch:  e,  iteration:  56  ----------\n",
      "Loss:  [ 0.0632374]\n",
      "Step:  1.90683748117e-06\n",
      "---------- epoch:  e,  iteration:  57  ----------\n",
      "Loss:  [ 0.06041489]\n",
      "Step:  1.90683748117e-06\n",
      "---------- epoch:  e,  iteration:  58  ----------\n",
      "Loss:  [ 0.05787949]\n",
      "Step:  1.90683748117e-06\n",
      "---------- epoch:  e,  iteration:  59  ----------\n",
      "Loss:  [ 0.05559964]\n",
      "Step:  1.90683748117e-06\n",
      "\n",
      "Validation accuracy:  [ 98.30633284]\n",
      "---------- epoch:  e,  iteration:  60  ----------\n",
      "Loss:  [ 0.0535473]\n",
      "Step:  1.90683748117e-06\n",
      "---------- epoch:  e,  iteration:  61  ----------\n",
      "Loss:  [ 0.05169758]\n",
      "Step:  1.90683748117e-06\n",
      "---------- epoch:  e,  iteration:  62  ----------\n",
      "Loss:  [ 0.05002835]\n",
      "Step:  1.90683748117e-06\n",
      "---------- epoch:  e,  iteration:  63  ----------\n",
      "Loss:  [ 0.04851994]\n",
      "Step:  1.90683748117e-06\n",
      "---------- epoch:  e,  iteration:  64  ----------\n",
      "Loss:  [ 0.04715489]\n",
      "Step:  1.90683748117e-06\n",
      "---------- epoch:  e,  iteration:  65  ----------\n",
      "Loss:  [ 0.04591766]\n",
      "Step:  1.90683748117e-06\n",
      "---------- epoch:  e,  iteration:  66  ----------\n",
      "Loss:  [ 0.04479446]\n",
      "Step:  1.90683748117e-06\n",
      "---------- epoch:  e,  iteration:  67  ----------\n",
      "Loss:  [ 0.04377301]\n",
      "Step:  1.90683748117e-06\n",
      "---------- epoch:  e,  iteration:  68  ----------\n",
      "Loss:  [ 0.0428424]\n",
      "Step:  1.90683748117e-06\n",
      "---------- epoch:  e,  iteration:  69  ----------\n",
      "Loss:  [ 0.04199294]\n",
      "Step:  1.90683748117e-06\n",
      "\n",
      "Validation accuracy:  [ 98.52724595]\n",
      "---------- epoch:  e,  iteration:  70  ----------\n",
      "Loss:  [ 0.04121601]\n",
      "Step:  1.90683748117e-06\n",
      "---------- epoch:  e,  iteration:  71  ----------\n",
      "Loss:  [ 0.04050392]\n",
      "Step:  1.90683748117e-06\n",
      "---------- epoch:  e,  iteration:  72  ----------\n",
      "Loss:  [ 0.03984986]\n",
      "Step:  1.90683748117e-06\n",
      "---------- epoch:  e,  iteration:  73  ----------\n",
      "Loss:  [ 0.03924776]\n",
      "Step:  1.90683748117e-06\n",
      "---------- epoch:  e,  iteration:  74  ----------\n",
      "Loss:  [ 0.03869221]\n",
      "Step:  1.90683748117e-06\n",
      "---------- epoch:  e,  iteration:  75  ----------\n",
      "Loss:  [ 0.0381784]\n",
      "Step:  1.90683748117e-06\n",
      "---------- epoch:  e,  iteration:  76  ----------\n",
      "Loss:  [ 0.03770206]\n",
      "Step:  1.90683748117e-06\n",
      "---------- epoch:  e,  iteration:  77  ----------\n",
      "Loss:  [ 0.03725937]\n",
      "Step:  1.90683748117e-06\n",
      "---------- epoch:  e,  iteration:  78  ----------\n",
      "Loss:  [ 0.03684693]\n",
      "Step:  1.90683748117e-06\n",
      "---------- epoch:  e,  iteration:  79  ----------\n",
      "Loss:  [ 0.03646173]\n",
      "Step:  1.90683748117e-06\n",
      "\n",
      "Validation accuracy:  [ 98.96907216]\n",
      "---------- epoch:  e,  iteration:  80  ----------\n",
      "Loss:  [ 0.03610106]\n",
      "Step:  1.90683748117e-06\n",
      "---------- epoch:  e,  iteration:  81  ----------\n",
      "Loss:  [ 0.03576252]\n",
      "Step:  1.90683748117e-06\n",
      "---------- epoch:  e,  iteration:  82  ----------\n",
      "Loss:  [ 0.03544397]\n",
      "Step:  1.90683748117e-06\n"
     ]
    },
    {
     "name": "stdout",
     "output_type": "stream",
     "text": [
      "---------- epoch:  e,  iteration:  83  ----------\n",
      "Loss:  [ 0.03514349]\n",
      "Step:  1.90683748117e-06\n",
      "---------- epoch:  e,  iteration:  84  ----------\n",
      "Loss:  [ 0.03485939]\n",
      "Step:  1.90683748117e-06\n",
      "---------- epoch:  e,  iteration:  85  ----------\n",
      "Loss:  [ 0.03459013]\n",
      "Step:  1.90683748117e-06\n",
      "---------- epoch:  e,  iteration:  86  ----------\n",
      "Loss:  [ 0.03433436]\n",
      "Step:  1.90683748117e-06\n",
      "---------- epoch:  e,  iteration:  87  ----------\n",
      "Loss:  [ 0.03409085]\n",
      "Step:  1.90683748117e-06\n",
      "---------- epoch:  e,  iteration:  88  ----------\n",
      "Loss:  [ 0.03408725]\n",
      "Step:  2.11870831241e-06\n",
      "---------- epoch:  e,  iteration:  89  ----------\n",
      "Loss:  [ 0.03383768]\n",
      "Step:  1.90683748117e-06\n",
      "\n",
      "Validation accuracy:  [ 99.11634757]\n",
      "---------- epoch:  e,  iteration:  90  ----------\n",
      "Loss:  [ 0.03360056]\n",
      "Step:  1.90683748117e-06\n",
      "---------- epoch:  e,  iteration:  91  ----------\n",
      "Loss:  [ 0.03337476]\n",
      "Step:  1.90683748117e-06\n",
      "---------- epoch:  e,  iteration:  92  ----------\n",
      "Loss:  [ 0.03337406]\n",
      "Step:  2.11870831241e-06\n",
      "---------- epoch:  e,  iteration:  93  ----------\n",
      "Loss:  [ 0.0331422]\n",
      "Step:  1.90683748117e-06\n",
      "---------- epoch:  e,  iteration:  94  ----------\n",
      "Loss:  [ 0.03292186]\n",
      "Step:  1.90683748117e-06\n",
      "---------- epoch:  e,  iteration:  95  ----------\n",
      "Loss:  [ 0.03271197]\n",
      "Step:  1.90683748117e-06\n",
      "---------- epoch:  e,  iteration:  96  ----------\n",
      "Loss:  [ 0.03271326]\n",
      "Step:  2.11870831241e-06\n",
      "---------- epoch:  e,  iteration:  97  ----------\n",
      "Loss:  [ 0.03249738]\n",
      "Step:  1.90683748117e-06\n",
      "---------- epoch:  e,  iteration:  98  ----------\n",
      "Loss:  [ 0.03229217]\n",
      "Step:  1.90683748117e-06\n",
      "---------- epoch:  e,  iteration:  99  ----------\n",
      "Loss:  [ 0.03209664]\n",
      "Step:  1.90683748117e-06\n",
      "\n",
      "Validation accuracy:  [ 99.04270987]\n"
     ]
    }
   ],
   "source": [
    "w = initial_w[:,:]\n",
    "\n",
    "runs = 10\n",
    "epoch = 10\n",
    "loss_store = np.zeros([1,runs*epoch])\n",
    "accuracy = np.zeros([1,epoch])\n",
    "\n",
    "\n",
    "count = 0\n",
    "for e in xrange(epoch):\n",
    "    for r in xrange(runs):\n",
    "        step = 1\n",
    "\n",
    "        dw = -(train_y.T - w.dot(train.T)).dot(train)\n",
    "        dw /= n\n",
    "\n",
    "        #Backtracking\n",
    "        temp_w = w - step*dw\n",
    "\n",
    "        loss = 0.5*(train_y.T - w.dot(train.T)).dot(train_y - w.dot(train.T).T)\n",
    "        loss_right = loss + step*alpha*loss.T.dot(loss)\n",
    "        loss_right /= n\n",
    "        loss_left = 0.5*(train_y.T - temp_w.dot(train.T)).dot(train_y - temp_w.dot(train.T).T)\n",
    "        loss_left /= n\n",
    "\n",
    "        while loss_left > loss_right:\n",
    "            step = beta*step\n",
    "            temp_w = w - step*dw\n",
    "\n",
    "            loss = 0.5*(train_y.T - w.dot(train.T)).dot(train_y - w.dot(train.T).T)\n",
    "            loss_right = loss + step*alpha*loss.T.dot(loss)\n",
    "            loss_right /= n\n",
    "            loss_left = 0.5*(train_y.T - temp_w.dot(train.T)).dot(train_y - temp_w.dot(train.T).T)\n",
    "            loss_left /= n\n",
    "\n",
    "        w = temp_w\n",
    "\n",
    "        predict_valid = w.dot(valid.T).T\n",
    "        predicted = (predict_valid > 0) + 0\n",
    "        predicted[predicted == 0] = -1\n",
    "        loss_store[:,count] = loss_left\n",
    "        print \"---------- epoch: \", \"e,  iteration: \", count , \" ----------\"\n",
    "        print \"Loss: \", loss_store[:,count]\n",
    "        print \"Step: \", step\n",
    "        count += 1\n",
    "\n",
    "    accuracy[:,e] = np.sum((predicted == valid_y) + 0)/(1.0*valid_y.shape[0]) * 100\n",
    "    print\n",
    "    print \"Validation accuracy: \", accuracy[:,e]\n"
   ]
  },
  {
   "cell_type": "code",
   "execution_count": null,
   "metadata": {},
   "outputs": [],
   "source": []
  },
  {
   "cell_type": "code",
   "execution_count": 12,
   "metadata": {},
   "outputs": [
    {
     "name": "stdout",
     "output_type": "stream",
     "text": [
      "99.11634757\n"
     ]
    }
   ],
   "source": [
    "predict_test = w.dot(test.T).T\n",
    "predicted_test = (predict_test > 0) + 0\n",
    "predicted_test[predicted_test == 0] = -1\n",
    "accuracy_test = np.sum((predicted_test == test_y) + 0)/(1.0*test_y.shape[0]) * 100\n",
    "print accuracy_test"
   ]
  },
  {
   "cell_type": "code",
   "execution_count": 13,
   "metadata": {},
   "outputs": [
    {
     "data": {
      "image/png": "[encoded data removed]",
      "text/plain": [
       "<matplotlib.figure.Figure at 0x7fc9b1de82d0>"
      ]
     },
     "metadata": {},
     "output_type": "display_data"
    }
   ],
   "source": [
    "plt.plot(accuracy.T, label='MSE')\n",
    "plt.title('Accuracy' )\n",
    "plt.xlabel('epoch number')\n",
    "plt.ylabel('MSE')\n",
    "plt.legend()\n",
    "plt.show()"
   ]
  },
  {
   "cell_type": "code",
   "execution_count": 14,
   "metadata": {},
   "outputs": [
    {
     "name": "stdout",
     "output_type": "stream",
     "text": [
      "[[  3.31369661   6.40648012  44.1826215   92.19440353  97.1281296\n",
      "   98.30633284  98.52724595  98.96907216  99.11634757  99.04270987]]\n"
     ]
    }
   ],
   "source": [
    "print accuracy"
   ]
  },
  {
   "cell_type": "code",
   "execution_count": null,
   "metadata": {},
   "outputs": [],
   "source": []
  },
  {
   "cell_type": "markdown",
   "metadata": {},
   "source": [
    "# Coordinate Descent"
   ]
  },
  {
   "cell_type": "code",
   "execution_count": 15,
   "metadata": {
    "scrolled": true
   },
   "outputs": [
    {
     "name": "stdout",
     "output_type": "stream",
     "text": [
      "--------------  0  --------------\n",
      "Loss:  [ 4.37258233]\n",
      "--------------  1  --------------\n",
      "Loss:  [ 1.81063946]\n",
      "--------------  2  --------------\n",
      "Loss:  [ 1.24834914]\n",
      "--------------  3  --------------\n",
      "Loss:  [ 0.99728509]\n",
      "--------------  4  --------------\n",
      "Loss:  [ 0.82650704]\n",
      "\n",
      "Validation accuracy:  [ 78.12960236]\n",
      "--------------  0  --------------\n",
      "Loss:  [ 0.69594433]\n",
      "--------------  1  --------------\n",
      "Loss:  [ 0.59297954]\n",
      "--------------  2  --------------\n",
      "Loss:  [ 0.51062255]\n",
      "--------------  3  --------------\n",
      "Loss:  [ 0.4440662]\n",
      "--------------  4  --------------\n",
      "Loss:  [ 0.38980052]\n",
      "\n",
      "Validation accuracy:  [ 87.92341679]\n",
      "--------------  0  --------------\n",
      "Loss:  [ 0.34520044]\n",
      "--------------  1  --------------\n",
      "Loss:  [ 0.30827133]\n",
      "--------------  2  --------------\n",
      "Loss:  [ 0.27747835]\n",
      "--------------  3  --------------\n",
      "Loss:  [ 0.251628]\n",
      "--------------  4  --------------\n",
      "Loss:  [ 0.22978416]\n",
      "\n",
      "Validation accuracy:  [ 92.48895434]\n",
      "--------------  0  --------------\n",
      "Loss:  [ 0.21120712]\n",
      "--------------  1  --------------\n",
      "Loss:  [ 0.19530868]\n",
      "--------------  2  --------------\n",
      "Loss:  [ 0.18161851]\n",
      "--------------  3  --------------\n",
      "Loss:  [ 0.1697586]\n",
      "--------------  4  --------------\n",
      "Loss:  [ 0.15942369]\n",
      "\n",
      "Validation accuracy:  [ 94.84536082]\n",
      "--------------  0  --------------\n",
      "Loss:  [ 0.15036612]\n",
      "--------------  1  --------------\n",
      "Loss:  [ 0.1423841]\n",
      "--------------  2  --------------\n",
      "Loss:  [ 0.13531245]\n",
      "--------------  3  --------------\n",
      "Loss:  [ 0.12901536]\n",
      "--------------  4  --------------\n",
      "Loss:  [ 0.12338066]\n",
      "\n",
      "Validation accuracy:  [ 95.80265096]\n"
     ]
    }
   ],
   "source": [
    "w_c = initial_w[:,:]\n",
    "\n",
    "runs = 5\n",
    "epoch = 5\n",
    "\n",
    "loss_store = np.zeros([1,runs*epoch*w_c.shape[1]])\n",
    "accuracy_c = np.zeros([1,epoch])\n",
    "\n",
    "step = 1e-6\n",
    "count = 0\n",
    "for e in xrange(epoch):\n",
    "    for r in xrange(runs):\n",
    "        for i in xrange(w_c.shape[1]):\n",
    "\n",
    "            dw = -(train_y.T - w_c.dot(train.T)).dot(train)\n",
    "            dw /= n\n",
    "            \n",
    "            w_c[:,i] = w_c[:,i] - step*dw[:,i]\n",
    "            #Backtracking\n",
    "            \n",
    "            loss = 0.5*(train_y.T - w_c.dot(train.T)).dot(train_y - w_c.dot(train.T).T)\n",
    "            loss /= n\n",
    "            \n",
    "        predict_valid = w_c.dot(valid.T).T\n",
    "        predicted = (predict_valid > 0) + 0\n",
    "        predicted[predicted == 0] = -1\n",
    "        loss_store[:,count] = loss\n",
    "        print \"-------------- \", r, \" --------------\"\n",
    "        print \"Loss: \", loss_store[:,count]\n",
    "        count += 1\n",
    "\n",
    "    accuracy_c[:,e] = np.sum((predicted == valid_y) + 0)/(1.0*valid_y.shape[0]) * 100\n",
    "    print\n",
    "    print \"Validation accuracy: \", accuracy_c[:,e]\n"
   ]
  },
  {
   "cell_type": "code",
   "execution_count": null,
   "metadata": {},
   "outputs": [],
   "source": []
  },
  {
   "cell_type": "code",
   "execution_count": 16,
   "metadata": {},
   "outputs": [
    {
     "name": "stdout",
     "output_type": "stream",
     "text": [
      "96.9072164948\n"
     ]
    }
   ],
   "source": [
    "predict_test_c = w_c.dot(test.T).T\n",
    "predicted_test_c = (predict_test_c > 0) + 0\n",
    "predicted_test_c[predicted_test_c == 0] = -1\n",
    "accuracy_test_c = np.sum((predicted_test_c == test_y) + 0)/(1.0*test_y.shape[0]) * 100\n",
    "print accuracy_test_c"
   ]
  },
  {
   "cell_type": "code",
   "execution_count": null,
   "metadata": {},
   "outputs": [],
   "source": []
  },
  {
   "cell_type": "code",
   "execution_count": null,
   "metadata": {},
   "outputs": [],
   "source": []
  }
 ],
 "metadata": {
  "kernelspec": {
   "display_name": "Python 2",
   "language": "python",
   "name": "python2"
  },
  "language_info": {
   "codemirror_mode": {
    "name": "ipython",
    "version": 2
   },
   "file_extension": ".py",
   "mimetype": "text/x-python",
   "name": "python",
   "nbconvert_exporter": "python",
   "pygments_lexer": "ipython2",
   "version": "2.7.12"
  }
 },
 "nbformat": 4,
 "nbformat_minor": 2
}
